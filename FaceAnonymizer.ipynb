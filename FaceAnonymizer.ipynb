{
 "cells": [
  {
   "cell_type": "markdown",
   "id": "0106b52e",
   "metadata": {},
   "source": [
    "# Face Anonymizer"
   ]
  },
  {
   "cell_type": "code",
   "execution_count": 2,
   "id": "3118ab9f",
   "metadata": {
    "scrolled": false
   },
   "outputs": [],
   "source": [
    "import cv2"
   ]
  },
  {
   "cell_type": "code",
   "execution_count": 3,
   "id": "6ddd9e9f",
   "metadata": {},
   "outputs": [
    {
     "name": "stderr",
     "output_type": "stream",
     "text": [
      "2024-03-14 16:47:41.805640: I tensorflow/core/platform/cpu_feature_guard.cc:182] This TensorFlow binary is optimized to use available CPU instructions in performance-critical operations.\n",
      "To enable the following instructions: AVX2 FMA, in other operations, rebuild TensorFlow with the appropriate compiler flags.\n"
     ]
    }
   ],
   "source": [
    "import mediapipe as mp"
   ]
  },
  {
   "cell_type": "code",
   "execution_count": 8,
   "id": "69ee13dc",
   "metadata": {},
   "outputs": [],
   "source": [
    "# read image\n",
    "img = cv2.imread('testImg.png')"
   ]
  },
  {
   "cell_type": "code",
   "execution_count": 11,
   "id": "854c4355",
   "metadata": {},
   "outputs": [
    {
     "data": {
      "text/plain": [
       "-1"
      ]
     },
     "execution_count": 11,
     "metadata": {},
     "output_type": "execute_result"
    }
   ],
   "source": [
    "# display image\n",
    "cv2.imshow('frame', img)\n",
    "cv2.waitKey(0)\n",
    "cv2.destroyAllWindows()\n",
    "cv2.waitKey(1)"
   ]
  },
  {
   "cell_type": "code",
   "execution_count": 1,
   "id": "a4ea0267",
   "metadata": {},
   "outputs": [],
   "source": [
    "def process_img(img, face_detection):\n",
    "    # takes in an image parameter(numpy object) \n",
    "    # and a face_detection object\n",
    "    # mp_face_detection.FaceDetection(model_selection = 0, min_detection_confidence = 0.5) as face_detection\n",
    "    # and returns a blurred image\n",
    "    \n",
    "    # height and width of image\n",
    "    H, W, _ = img.shape\n",
    "    \n",
    "    # convert to rgb \n",
    "    img_rgb = cv2.cvtColor(img, cv2.COLOR_BGR2RGB)\n",
    "    out = face_detection.process(img_rgb) #output of mediapipe process(bbox of face detection)\n",
    "    \n",
    "    if out.detections is not None:\n",
    "        for detection in out.detections:\n",
    "            location_data = detection.location_data\n",
    "            bbox = location_data.relative_bounding_box\n",
    "            \n",
    "            x1, y1, w, h = int(bbox.xmin*W) , int(bbox.ymin*H), int(bbox.width*W), int(bbox.height*H)\n",
    "            \n",
    "            #blur faces\n",
    "            img[y1: y1 + h, x1: x1 + w, :] = cv2.blur(img[y1: y1 + h, x1: x1 + h, :], (30,30))\n",
    "            # test out if it works by delting the ':' represneting the third rank of img tensor\n",
    "            \n",
    "    return img"
   ]
  },
  {
   "cell_type": "code",
   "execution_count": 3,
   "id": "364bf689",
   "metadata": {
    "scrolled": true
   },
   "outputs": [
    {
     "ename": "error",
     "evalue": "OpenCV(4.9.0) /Users/runner/work/opencv-python/opencv-python/opencv/modules/imgproc/src/box_filter.dispatch.cpp:446: error: (-215:Assertion failed) !_src.empty() in function 'boxFilter'\n",
     "output_type": "error",
     "traceback": [
      "\u001b[0;31m---------------------------------------------------------------------------\u001b[0m",
      "\u001b[0;31merror\u001b[0m                                     Traceback (most recent call last)",
      "Cell \u001b[0;32mIn [3], line 23\u001b[0m\n\u001b[1;32m     20\u001b[0m \u001b[38;5;28;01mif\u001b[39;00m cv2\u001b[38;5;241m.\u001b[39mwaitKey(\u001b[38;5;241m1\u001b[39m) \u001b[38;5;241m&\u001b[39m \u001b[38;5;241m0xFF\u001b[39m \u001b[38;5;241m==\u001b[39m \u001b[38;5;28mord\u001b[39m(\u001b[38;5;124m'\u001b[39m\u001b[38;5;124mq\u001b[39m\u001b[38;5;124m'\u001b[39m):\n\u001b[1;32m     21\u001b[0m     \u001b[38;5;28;01mbreak\u001b[39;00m\n\u001b[0;32m---> 23\u001b[0m frame \u001b[38;5;241m=\u001b[39m \u001b[43mprocess_img\u001b[49m\u001b[43m(\u001b[49m\u001b[43mframe\u001b[49m\u001b[43m,\u001b[49m\u001b[43m \u001b[49m\u001b[43mface_detection\u001b[49m\u001b[43m)\u001b[49m\n\u001b[1;32m     24\u001b[0m \u001b[38;5;66;03m# print('frame processed')\u001b[39;00m\n\u001b[1;32m     26\u001b[0m cv2\u001b[38;5;241m.\u001b[39mimshow(\u001b[38;5;124m'\u001b[39m\u001b[38;5;124mframe\u001b[39m\u001b[38;5;124m'\u001b[39m, frame)\n",
      "Cell \u001b[0;32mIn [1], line 22\u001b[0m, in \u001b[0;36mprocess_img\u001b[0;34m(img, face_detection)\u001b[0m\n\u001b[1;32m     19\u001b[0m         x1, y1, w, h \u001b[38;5;241m=\u001b[39m \u001b[38;5;28mint\u001b[39m(bbox\u001b[38;5;241m.\u001b[39mxmin\u001b[38;5;241m*\u001b[39mW) , \u001b[38;5;28mint\u001b[39m(bbox\u001b[38;5;241m.\u001b[39mymin\u001b[38;5;241m*\u001b[39mH), \u001b[38;5;28mint\u001b[39m(bbox\u001b[38;5;241m.\u001b[39mwidth\u001b[38;5;241m*\u001b[39mW), \u001b[38;5;28mint\u001b[39m(bbox\u001b[38;5;241m.\u001b[39mheight\u001b[38;5;241m*\u001b[39mH)\n\u001b[1;32m     21\u001b[0m         \u001b[38;5;66;03m#blur faces\u001b[39;00m\n\u001b[0;32m---> 22\u001b[0m         img[y1: y1 \u001b[38;5;241m+\u001b[39m h, x1: x1 \u001b[38;5;241m+\u001b[39m w, :] \u001b[38;5;241m=\u001b[39m \u001b[43mcv2\u001b[49m\u001b[38;5;241;43m.\u001b[39;49m\u001b[43mblur\u001b[49m\u001b[43m(\u001b[49m\u001b[43mimg\u001b[49m\u001b[43m[\u001b[49m\u001b[43my1\u001b[49m\u001b[43m:\u001b[49m\u001b[43m \u001b[49m\u001b[43my1\u001b[49m\u001b[43m \u001b[49m\u001b[38;5;241;43m+\u001b[39;49m\u001b[43m \u001b[49m\u001b[43mh\u001b[49m\u001b[43m,\u001b[49m\u001b[43m \u001b[49m\u001b[43mx1\u001b[49m\u001b[43m:\u001b[49m\u001b[43m \u001b[49m\u001b[43mx1\u001b[49m\u001b[43m \u001b[49m\u001b[38;5;241;43m+\u001b[39;49m\u001b[43m \u001b[49m\u001b[43mh\u001b[49m\u001b[43m,\u001b[49m\u001b[43m \u001b[49m\u001b[43m:\u001b[49m\u001b[43m]\u001b[49m\u001b[43m,\u001b[49m\u001b[43m \u001b[49m\u001b[43m(\u001b[49m\u001b[38;5;241;43m30\u001b[39;49m\u001b[43m,\u001b[49m\u001b[38;5;241;43m30\u001b[39;49m\u001b[43m)\u001b[49m\u001b[43m)\u001b[49m\n\u001b[1;32m     23\u001b[0m         \u001b[38;5;66;03m# test out if it works by delting the ':' represneting the third rank of img tensor\u001b[39;00m\n\u001b[1;32m     25\u001b[0m \u001b[38;5;28;01mreturn\u001b[39;00m img\n",
      "\u001b[0;31merror\u001b[0m: OpenCV(4.9.0) /Users/runner/work/opencv-python/opencv-python/opencv/modules/imgproc/src/box_filter.dispatch.cpp:446: error: (-215:Assertion failed) !_src.empty() in function 'boxFilter'\n"
     ]
    }
   ],
   "source": [
    "import cv2\n",
    "from PIL import Image\n",
    "import mediapipe as mp\n",
    "\n",
    "# open webcam\n",
    "\n",
    "\n",
    "# detect faces\n",
    "mp_face_detection = mp.solutions.face_detection\n",
    "\n",
    "with mp_face_detection.FaceDetection(model_selection = 0, min_detection_confidence = 0.5) as face_detection:\n",
    "    \n",
    "    # open webcam\n",
    "    cap = cv2.VideoCapture(0)\n",
    "    \n",
    "    ret, frame = cap.read()\n",
    "    while ret:\n",
    "        \n",
    "        # keystroke condition to exit out of frame\n",
    "        if cv2.waitKey(1) & 0xFF == ord('q'):\n",
    "            break\n",
    "        \n",
    "        frame = process_img(frame, face_detection)\n",
    "        # print('frame processed')\n",
    "        \n",
    "        cv2.imshow('frame', frame)\n",
    "        cv2.waitKey(25)\n",
    "        \n",
    "        ret, frame = cap.read()\n",
    "        \n",
    "\n",
    "\n",
    "cap.release()\n",
    "cv2.destroyAllWindows()\n",
    "cv2.waitKey(1)"
   ]
  },
  {
   "cell_type": "code",
   "execution_count": 19,
   "id": "448da41c",
   "metadata": {},
   "outputs": [],
   "source": [
    "cap.release()"
   ]
  },
  {
   "cell_type": "code",
   "execution_count": null,
   "id": "3879eb57",
   "metadata": {},
   "outputs": [],
   "source": []
  }
 ],
 "metadata": {
  "kernelspec": {
   "display_name": "Python 3 (ipykernel)",
   "language": "python",
   "name": "python3"
  },
  "language_info": {
   "codemirror_mode": {
    "name": "ipython",
    "version": 3
   },
   "file_extension": ".py",
   "mimetype": "text/x-python",
   "name": "python",
   "nbconvert_exporter": "python",
   "pygments_lexer": "ipython3",
   "version": "3.8.8"
  }
 },
 "nbformat": 4,
 "nbformat_minor": 5
}
